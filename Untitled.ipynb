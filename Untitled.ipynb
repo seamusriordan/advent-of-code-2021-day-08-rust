{
 "cells": [
  {
   "cell_type": "code",
   "execution_count": 1,
   "metadata": {},
   "outputs": [],
   "source": [
    "M = [\n",
    "    [1, 0, 1, 0, 1, 1, 1],\n",
    "    [1,0,0,1,1,0,1],\n",
    "    [1,1,1,1,0,1,1],\n",
    "    [0,0,1,1,1,0,1],\n",
    "    [1,0,0,0,1,0,0],\n",
    "    [1,1,1,1,1,1,1],\n",
    "    [1,0,1,0,1,0,1]\n",
    "]"
   ]
  },
  {
   "cell_type": "code",
   "execution_count": 3,
   "metadata": {},
   "outputs": [],
   "source": [
    "D = matrix(ZZ, M)"
   ]
  },
  {
   "cell_type": "code",
   "execution_count": 4,
   "metadata": {},
   "outputs": [
    {
     "data": {
      "text/plain": [
       "[ 0  0  1  0  1 -1  0]\n",
       "[-1  0 -1 -1 -1  2  1]\n",
       "[ 0 -1  1  1  1 -1  0]\n",
       "[ 0  0  1  1  1 -1 -1]\n",
       "[ 0  0 -1  0  0  1  0]\n",
       "[ 1  0  0  0  0  0 -1]\n",
       "[ 0  1 -1 -1 -2  1  1]"
      ]
     },
     "execution_count": 4,
     "metadata": {},
     "output_type": "execute_result"
    }
   ],
   "source": [
    "D.inverse()"
   ]
  },
  {
   "cell_type": "code",
   "execution_count": null,
   "metadata": {},
   "outputs": [],
   "source": []
  }
 ],
 "metadata": {
  "kernelspec": {
   "display_name": "SageMath 9.2",
   "language": "sage",
   "name": "sagemath"
  },
  "language_info": {
   "codemirror_mode": {
    "name": "ipython",
    "version": 3
   },
   "file_extension": ".py",
   "mimetype": "text/x-python",
   "name": "python",
   "nbconvert_exporter": "python",
   "pygments_lexer": "ipython3",
   "version": "3.7.7"
  }
 },
 "nbformat": 4,
 "nbformat_minor": 4
}
